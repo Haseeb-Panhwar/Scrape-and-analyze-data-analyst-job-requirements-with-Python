{
 "cells": [
  {
   "cell_type": "markdown",
   "metadata": {},
   "source": [
    "# Web Scraping Job Vacancies"
   ]
  },
  {
   "cell_type": "markdown",
   "metadata": {},
   "source": [
    "## Introduction\n",
    "\n",
    "In this project, we'll build a web scraper to extract job listings from a popular job search platform. We'll extract job titles, companies, locations, job descriptions, and other relevant information.\n",
    "\n",
    "Here are the main steps we'll follow in this project:\n",
    "\n",
    "1. Setup our development environment\n",
    "2. Understand the basics of web scraping\n",
    "3. Analyze the website structure of our job search platform\n",
    "4. Write the Python code to extract job data from our job search platform\n",
    "5. Save the data to a CSV file\n",
    "6. Test our web scraper and refine our code as needed\n",
    "\n",
    "## Prerequisites\n",
    "\n",
    "Before starting this project, you should have some basic knowledge of Python programming and HTML structure. In addition, you may want to use the following packages in your Python environment:\n",
    "\n",
    "- requests\n",
    "- BeautifulSoup\n",
    "- csv\n",
    "- datetime\n",
    "\n",
    "These packages should already be installed in Coursera's Jupyter Notebook environment, however if you'd like to install additional packages that are not included in this environment or are working off platform you can install additional packages using `!pip install packagename` within a notebook cell such as:\n",
    "\n",
    "- `!pip install requests`\n",
    "- `!pip install BeautifulSoup`"
   ]
  },
  {
   "cell_type": "markdown",
   "metadata": {},
   "source": [
    "## Step 1: Importing Required Libraries"
   ]
  },
  {
   "cell_type": "code",
   "execution_count": 3,
   "metadata": {},
   "outputs": [],
   "source": [
    "# your code here"
   ]
  },
  {
   "cell_type": "code",
   "execution_count": 1,
   "metadata": {},
   "outputs": [
    {
     "name": "stdout",
     "output_type": "stream",
     "text": [
      "Requirement already satisfied: requests in /opt/conda/lib/python3.7/site-packages (2.23.0)\n",
      "Requirement already satisfied: idna<3,>=2.5 in /opt/conda/lib/python3.7/site-packages (from requests) (2.9)\n",
      "Requirement already satisfied: chardet<4,>=3.0.2 in /opt/conda/lib/python3.7/site-packages (from requests) (3.0.4)\n",
      "Requirement already satisfied: urllib3!=1.25.0,!=1.25.1,<1.26,>=1.21.1 in /opt/conda/lib/python3.7/site-packages (from requests) (1.25.9)\n",
      "Requirement already satisfied: certifi>=2017.4.17 in /opt/conda/lib/python3.7/site-packages (from requests) (2020.4.5.1)\n",
      "\u001b[33mWARNING: You are using pip version 21.3.1; however, version 23.2.1 is available.\n",
      "You should consider upgrading via the '/opt/conda/bin/python3 -m pip install --upgrade pip' command.\u001b[0m\n"
     ]
    }
   ],
   "source": [
    "!pip install requests"
   ]
  },
  {
   "cell_type": "code",
   "execution_count": 1,
   "metadata": {},
   "outputs": [
    {
     "name": "stdout",
     "output_type": "stream",
     "text": [
      "Collecting selenium\n",
      "  Downloading selenium-4.10.0-py3-none-any.whl (6.7 MB)\n",
      "     |████████████████████████████████| 6.7 MB 36.3 MB/s            \n",
      "\u001b[?25hCollecting urllib3[socks]<3,>=1.26\n",
      "  Downloading urllib3-2.0.4-py3-none-any.whl (123 kB)\n",
      "     |████████████████████████████████| 123 kB 106.7 MB/s            \n",
      "\u001b[?25hCollecting trio-websocket~=0.9\n",
      "  Downloading trio_websocket-0.10.3-py3-none-any.whl (17 kB)\n",
      "Collecting trio~=0.17\n",
      "  Downloading trio-0.22.2-py3-none-any.whl (400 kB)\n",
      "     |████████████████████████████████| 400 kB 104.0 MB/s            \n",
      "\u001b[?25hCollecting certifi>=2021.10.8\n",
      "  Downloading certifi-2023.7.22-py3-none-any.whl (158 kB)\n",
      "     |████████████████████████████████| 158 kB 106.3 MB/s            \n",
      "\u001b[?25hCollecting exceptiongroup>=1.0.0rc9\n",
      "  Downloading exceptiongroup-1.1.2-py3-none-any.whl (14 kB)\n",
      "Collecting outcome\n",
      "  Downloading outcome-1.2.0-py2.py3-none-any.whl (9.7 kB)\n",
      "Collecting attrs>=20.1.0\n",
      "  Downloading attrs-23.1.0-py3-none-any.whl (61 kB)\n",
      "     |████████████████████████████████| 61 kB 26.0 MB/s            \n",
      "\u001b[?25hRequirement already satisfied: idna in /opt/conda/lib/python3.7/site-packages (from trio~=0.17->selenium) (2.9)\n",
      "Collecting sniffio\n",
      "  Downloading sniffio-1.3.0-py3-none-any.whl (10 kB)\n",
      "Requirement already satisfied: sortedcontainers in /opt/conda/lib/python3.7/site-packages (from trio~=0.17->selenium) (2.1.0)\n",
      "Collecting wsproto>=0.14\n",
      "  Downloading wsproto-1.2.0-py3-none-any.whl (24 kB)\n",
      "Requirement already satisfied: pysocks!=1.5.7,<2.0,>=1.5.6 in /opt/conda/lib/python3.7/site-packages (from urllib3[socks]<3,>=1.26->selenium) (1.7.1)\n",
      "Requirement already satisfied: importlib-metadata in /opt/conda/lib/python3.7/site-packages (from attrs>=20.1.0->trio~=0.17->selenium) (1.6.0)\n",
      "Collecting h11<1,>=0.9.0\n",
      "  Downloading h11-0.14.0-py3-none-any.whl (58 kB)\n",
      "     |████████████████████████████████| 58 kB 27.4 MB/s            \n",
      "\u001b[?25hRequirement already satisfied: typing-extensions in /opt/conda/lib/python3.7/site-packages (from h11<1,>=0.9.0->wsproto>=0.14->trio-websocket~=0.9->selenium) (3.7.4.2)\n",
      "Requirement already satisfied: zipp>=0.5 in /opt/conda/lib/python3.7/site-packages (from importlib-metadata->attrs>=20.1.0->trio~=0.17->selenium) (3.1.0)\n",
      "Installing collected packages: attrs, sniffio, outcome, h11, exceptiongroup, wsproto, urllib3, trio, trio-websocket, certifi, selenium\n",
      "  Attempting uninstall: attrs\n",
      "    Found existing installation: attrs 19.3.0\n",
      "    Uninstalling attrs-19.3.0:\n",
      "      Successfully uninstalled attrs-19.3.0\n",
      "  Attempting uninstall: urllib3\n",
      "    Found existing installation: urllib3 1.25.9\n",
      "    Uninstalling urllib3-1.25.9:\n",
      "      Successfully uninstalled urllib3-1.25.9\n",
      "  Attempting uninstall: certifi\n",
      "    Found existing installation: certifi 2020.4.5.1\n",
      "    Uninstalling certifi-2020.4.5.1:\n",
      "      Successfully uninstalled certifi-2020.4.5.1\n",
      "\u001b[31mERROR: pip's dependency resolver does not currently take into account all the packages that are installed. This behaviour is the source of the following dependency conflicts.\n",
      "requests 2.23.0 requires urllib3!=1.25.0,!=1.25.1,<1.26,>=1.21.1, but you have urllib3 2.0.4 which is incompatible.\u001b[0m\n",
      "Successfully installed attrs-23.1.0 certifi-2023.7.22 exceptiongroup-1.1.2 h11-0.14.0 outcome-1.2.0 selenium-4.10.0 sniffio-1.3.0 trio-0.22.2 trio-websocket-0.10.3 urllib3-2.0.4 wsproto-1.2.0\n",
      "\u001b[33mWARNING: You are using pip version 21.3.1; however, version 23.2.1 is available.\n",
      "You should consider upgrading via the '/opt/conda/bin/python3 -m pip install --upgrade pip' command.\u001b[0m\n"
     ]
    }
   ],
   "source": [
    "!pip install selenium"
   ]
  },
  {
   "cell_type": "code",
   "execution_count": 4,
   "metadata": {},
   "outputs": [],
   "source": [
    "import requests\n",
    "from bs4 import BeautifulSoup as bs"
   ]
  },
  {
   "cell_type": "code",
   "execution_count": 24,
   "metadata": {},
   "outputs": [],
   "source": [
    "from selenium.webdriver import Chrome\n",
    "from selenium.webdriver.common.keys import Keys"
   ]
  },
  {
   "cell_type": "code",
   "execution_count": 29,
   "metadata": {},
   "outputs": [],
   "source": [
    "def getContent(title,loc):\n",
    "    url = 'https://www.linkedin.com/jobs/search?keywords='+title+'&location='+loc+'%3D103644278&trk=public_jobs_jobs-search-bar_search-submit&position=1&pageNum=0'\n",
    "    r = requests.get(url)\n",
    "    return r.content"
   ]
  },
  {
   "cell_type": "code",
   "execution_count": 30,
   "metadata": {},
   "outputs": [],
   "source": [
    "data = getContent('Software Engineer','Karachi Sindh')"
   ]
  },
  {
   "cell_type": "code",
   "execution_count": 42,
   "metadata": {},
   "outputs": [],
   "source": [
    "import csv\n",
    "jobs = []\n",
    "header = [\"Title\",\"Company\",\"Location\",\"Link\"]\n",
    "soup = bs(data,'html.parser')\n",
    "titles = soup.find_all('h3',class_=\"base-search-card__title\")\n",
    "company = soup.find_all('h4',class_=\"base-search-card__subtitle\")\n",
    "links = soup.find_all('a',class_=\"base-card__full-link absolute top-0 right-0 bottom-0 left-0 p-0 z-[2]\")\n",
    "loc = soup.find_all('span',class_=\"job-search-card__location\")\n",
    "for item in range(len(company)):\n",
    "    job = {}\n",
    "    job['Title']=(titles[item].get_text(strip=True,separator = ' '))\n",
    "    job['Company']=(company[item].get_text(strip=True,separator = ' '))\n",
    "    job['Location']=(loc[item].get_text(strip=True,separator=' '))\n",
    "    job['Link']=(links[item].get('href'))\n",
    "    jobs.append(job)\n",
    "\n",
    "with open('jobs.csv','w') as f:\n",
    "    writer = csv.DictWriter(f,fieldnames=header)\n",
    "    writer.writeheader()\n",
    "    writer.writerows(jobs)"
   ]
  },
  {
   "cell_type": "code",
   "execution_count": 44,
   "metadata": {},
   "outputs": [
    {
     "name": "stdout",
     "output_type": "stream",
     "text": [
      "['Title', 'Company', 'Location', 'Link']\n",
      "['Junior Software Developer', 'Contour Software', 'Karāchi, Sindh, Pakistan', 'https://pk.linkedin.com/jobs/view/junior-software-developer-at-contour-software-3622567830?refId=XEjC5C4Y130LO3MvKcuVbw%3D%3D&trackingId=9Erh%2F788W%2B7TpBmte8PPwA%3D%3D&position=1&pageNum=0&trk=public_jobs_jserp-result_search-card']\n",
      "['Frontend Developer', 'Xgrid.co', 'Karāchi, Sindh, Pakistan', 'https://pk.linkedin.com/jobs/view/frontend-developer-at-xgrid-co-3612714355?refId=XEjC5C4Y130LO3MvKcuVbw%3D%3D&trackingId=EY7VSH21kz0fkEL15ixFZw%3D%3D&position=2&pageNum=0&trk=public_jobs_jserp-result_search-card']\n",
      "['Software Developer', 'Contour Software', 'Karāchi, Sindh, Pakistan', 'https://pk.linkedin.com/jobs/view/software-developer-at-contour-software-3630173163?refId=XEjC5C4Y130LO3MvKcuVbw%3D%3D&trackingId=3Kg0G%2FaScQ9XfZyTsrkNiQ%3D%3D&position=3&pageNum=0&trk=public_jobs_jserp-result_search-card']\n",
      "['Software Developer', 'Contour Software', 'Karāchi, Sindh, Pakistan', 'https://pk.linkedin.com/jobs/view/software-developer-at-contour-software-3669960402?refId=XEjC5C4Y130LO3MvKcuVbw%3D%3D&trackingId=Iv%2BfVzeEcMxf3vVqN1lYDw%3D%3D&position=4&pageNum=0&trk=public_jobs_jserp-result_search-card']\n",
      "['Software Engineers', 'Muttii Group', 'Karāchi, Sindh, Pakistan', 'https://pk.linkedin.com/jobs/view/software-engineers-at-muttii-group-3667741747?refId=XEjC5C4Y130LO3MvKcuVbw%3D%3D&trackingId=rkuMXT3T%2F3RymhyHWIomWA%3D%3D&position=5&pageNum=0&trk=public_jobs_jserp-result_search-card']\n",
      "['Software Developer', 'Contour Software', 'Karāchi, Sindh, Pakistan', 'https://pk.linkedin.com/jobs/view/software-developer-at-contour-software-3656332182?refId=XEjC5C4Y130LO3MvKcuVbw%3D%3D&trackingId=Rpx%2FaBDHUFVPKbCs7MpQXA%3D%3D&position=6&pageNum=0&trk=public_jobs_jserp-result_search-card']\n",
      "['Software Engineer - PHP', 'Gaditek', 'Karāchi, Sindh, Pakistan', 'https://pk.linkedin.com/jobs/view/software-engineer-php-at-gaditek-3591021636?refId=XEjC5C4Y130LO3MvKcuVbw%3D%3D&trackingId=ljW8NeGzemfbeQtltu4dpw%3D%3D&position=7&pageNum=0&trk=public_jobs_jserp-result_search-card']\n",
      "['Software Engineer - .NET', 'Creative Chaos', 'Karāchi, Sindh, Pakistan', 'https://pk.linkedin.com/jobs/view/software-engineer-net-at-creative-chaos-3646120546?refId=XEjC5C4Y130LO3MvKcuVbw%3D%3D&trackingId=YhPtKivNoAM0aFUcgR1BKw%3D%3D&position=8&pageNum=0&trk=public_jobs_jserp-result_search-card']\n",
      "['GRADUATE SOFTWARE ENGINEER - Dubai, UAE', 'Cobblestone Energy', 'Karachi Division, Sindh, Pakistan', 'https://pk.linkedin.com/jobs/view/graduate-software-engineer-dubai-uae-at-cobblestone-energy-3655322762?refId=XEjC5C4Y130LO3MvKcuVbw%3D%3D&trackingId=QRvcmOIoAQwoJt0g1O8EaA%3D%3D&position=9&pageNum=0&trk=public_jobs_jserp-result_search-card']\n",
      "['Full Stack Developer', 'Contour Software', 'Karāchi, Sindh, Pakistan', 'https://pk.linkedin.com/jobs/view/full-stack-developer-at-contour-software-3649697082?refId=XEjC5C4Y130LO3MvKcuVbw%3D%3D&trackingId=HkunpBXyXK6Hr4j7qjQVoA%3D%3D&position=10&pageNum=0&trk=public_jobs_jserp-result_search-card']\n",
      "['.Net Developer', 'Think Digitally', 'Karāchi, Sindh, Pakistan', 'https://pk.linkedin.com/jobs/view/net-developer-at-think-digitally-3663535619?refId=XEjC5C4Y130LO3MvKcuVbw%3D%3D&trackingId=yDYm0sQmJ%2FHqDAr5oq3avQ%3D%3D&position=11&pageNum=0&trk=public_jobs_jserp-result_search-card']\n",
      "['Associate Software Engineer- Android', 'Creative Chaos', 'Karāchi, Sindh, Pakistan', 'https://pk.linkedin.com/jobs/view/associate-software-engineer-android-at-creative-chaos-3625442531?refId=XEjC5C4Y130LO3MvKcuVbw%3D%3D&trackingId=jioeMG226HfrIXxU7X9voQ%3D%3D&position=12&pageNum=0&trk=public_jobs_jserp-result_search-card']\n",
      "['Software Engineer', 'GfK - An NIQ Company', 'Karachi Division, Sindh, Pakistan', 'https://pk.linkedin.com/jobs/view/software-engineer-at-gfk-an-niq-company-3667439434?refId=XEjC5C4Y130LO3MvKcuVbw%3D%3D&trackingId=Fyd85GiXXzx%2BUrCXwYhSyA%3D%3D&position=13&pageNum=0&trk=public_jobs_jserp-result_search-card']\n",
      "['Full Stack Developer', 'Contour Software', 'Karāchi, Sindh, Pakistan', 'https://pk.linkedin.com/jobs/view/full-stack-developer-at-contour-software-3622575253?refId=XEjC5C4Y130LO3MvKcuVbw%3D%3D&trackingId=KKdxN211D9yLwB3kdz0Kxw%3D%3D&position=14&pageNum=0&trk=public_jobs_jserp-result_search-card']\n",
      "['JUNIOR DEVELOPER - Dubai, UAE', 'Cobblestone Energy', 'Karachi Division, Sindh, Pakistan', 'https://pk.linkedin.com/jobs/view/junior-developer-dubai-uae-at-cobblestone-energy-3642306198?refId=XEjC5C4Y130LO3MvKcuVbw%3D%3D&trackingId=0%2B8TvTcUTzA1sRRkWfAEVQ%3D%3D&position=15&pageNum=0&trk=public_jobs_jserp-result_search-card']\n",
      "['Backend Engineer', 'Gaditek', 'Karāchi, Sindh, Pakistan', 'https://pk.linkedin.com/jobs/view/backend-engineer-at-gaditek-3602723845?refId=XEjC5C4Y130LO3MvKcuVbw%3D%3D&trackingId=aeEF%2FOlBN0vmv%2Fsxdbxmqg%3D%3D&position=16&pageNum=0&trk=public_jobs_jserp-result_search-card']\n",
      "['Java Software Engineer', 'Xpert Digital', 'Karachi Division, Sindh, Pakistan', 'https://pk.linkedin.com/jobs/view/java-software-engineer-at-xpert-digital-3672572322?refId=XEjC5C4Y130LO3MvKcuVbw%3D%3D&trackingId=YZ0uiICwjvnHrIw07iworg%3D%3D&position=17&pageNum=0&trk=public_jobs_jserp-result_search-card']\n",
      "['Android Developer', 'Creative Chaos', 'Karāchi, Sindh, Pakistan', 'https://pk.linkedin.com/jobs/view/android-developer-at-creative-chaos-3648738669?refId=XEjC5C4Y130LO3MvKcuVbw%3D%3D&trackingId=AAXUO9sywFG5IkMFpzKlFA%3D%3D&position=18&pageNum=0&trk=public_jobs_jserp-result_search-card']\n",
      "['Android Developer', 'The Citizens Foundation', 'Karāchi, Sindh, Pakistan', 'https://pk.linkedin.com/jobs/view/android-developer-at-the-citizens-foundation-3641543788?refId=XEjC5C4Y130LO3MvKcuVbw%3D%3D&trackingId=oBiHj0wNvaQ0r0w5clOHMA%3D%3D&position=19&pageNum=0&trk=public_jobs_jserp-result_search-card']\n",
      "['Android Developer', 'NymCard', 'Karachi Division, Sindh, Pakistan', 'https://pk.linkedin.com/jobs/view/android-developer-at-nymcard-3665659994?refId=XEjC5C4Y130LO3MvKcuVbw%3D%3D&trackingId=1v4yMh2bZfHBCRUR34e2gA%3D%3D&position=20&pageNum=0&trk=public_jobs_jserp-result_search-card']\n",
      "['FrontEnd Engineer', 'Gaditek', 'Karāchi, Sindh, Pakistan', 'https://pk.linkedin.com/jobs/view/frontend-engineer-at-gaditek-3609144541?refId=XEjC5C4Y130LO3MvKcuVbw%3D%3D&trackingId=DP%2B%2F%2FIS3f9XgUFp7%2B8bjIQ%3D%3D&position=21&pageNum=0&trk=public_jobs_jserp-result_search-card']\n",
      "['Backend Developer- Bigcommerce or Shopify', 'The Plum Tree Group', 'Karāchi, Sindh, Pakistan', 'https://pk.linkedin.com/jobs/view/backend-developer-bigcommerce-or-shopify-at-the-plum-tree-group-3592455042?refId=XEjC5C4Y130LO3MvKcuVbw%3D%3D&trackingId=Rh%2FnBY%2FytOMC6F4uLfersA%3D%3D&position=22&pageNum=0&trk=public_jobs_jserp-result_search-card']\n",
      "['Full Stack Engineer', 'Gaditek', 'Karāchi, Sindh, Pakistan', 'https://pk.linkedin.com/jobs/view/full-stack-engineer-at-gaditek-3606016485?refId=XEjC5C4Y130LO3MvKcuVbw%3D%3D&trackingId=nQ3scOqQGcuGFfOeGnMUTA%3D%3D&position=23&pageNum=0&trk=public_jobs_jserp-result_search-card']\n",
      "['Intermediate Software Developer', 'Contour Software', 'Karāchi, Sindh, Pakistan', 'https://pk.linkedin.com/jobs/view/intermediate-software-developer-at-contour-software-3659319701?refId=XEjC5C4Y130LO3MvKcuVbw%3D%3D&trackingId=qwM0qjg%2BkpmBzceZLJolDQ%3D%3D&position=24&pageNum=0&trk=public_jobs_jserp-result_search-card']\n",
      "['Trainee Software Developer (PSEB)', 'Contour Software', 'Karāchi, Sindh, Pakistan', 'https://pk.linkedin.com/jobs/view/trainee-software-developer-pseb-at-contour-software-3632328622?refId=XEjC5C4Y130LO3MvKcuVbw%3D%3D&trackingId=%2BoZ4HwY8%2FV0mRcntCMcSZQ%3D%3D&position=25&pageNum=0&trk=public_jobs_jserp-result_search-card']\n"
     ]
    }
   ],
   "source": [
    "with open('jobs.csv','r') as file:\n",
    "    csvreader = csv.reader(file)\n",
    "    for row in csvreader:\n",
    "        print(row)"
   ]
  }
 ],
 "metadata": {
  "kernelspec": {
   "display_name": "Python 3",
   "language": "python",
   "name": "python3"
  },
  "language_info": {
   "codemirror_mode": {
    "name": "ipython",
    "version": 3
   },
   "file_extension": ".py",
   "mimetype": "text/x-python",
   "name": "python",
   "nbconvert_exporter": "python",
   "pygments_lexer": "ipython3",
   "version": "3.7.6"
  }
 },
 "nbformat": 4,
 "nbformat_minor": 4
}
